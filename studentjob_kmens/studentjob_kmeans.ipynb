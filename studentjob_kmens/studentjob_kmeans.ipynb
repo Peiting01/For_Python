{
 "cells": [
  {
   "cell_type": "code",
   "execution_count": 1,
   "metadata": {},
   "outputs": [],
   "source": [
    "from sklearn.cluster import KMeans\n",
    "import numpy as np\n",
    "import matplotlib.pyplot as plt\n",
    "%matplotlib inline\n",
    "plt.style.use('ggplot')\n",
    "import pandas as pd"
   ]
  },
  {
   "cell_type": "code",
   "execution_count": 2,
   "metadata": {},
   "outputs": [
    {
     "data": {
      "text/html": [
       "<div>\n",
       "<style scoped>\n",
       "    .dataframe tbody tr th:only-of-type {\n",
       "        vertical-align: middle;\n",
       "    }\n",
       "\n",
       "    .dataframe tbody tr th {\n",
       "        vertical-align: top;\n",
       "    }\n",
       "\n",
       "    .dataframe thead th {\n",
       "        text-align: right;\n",
       "    }\n",
       "</style>\n",
       "<table border=\"1\" class=\"dataframe\">\n",
       "  <thead>\n",
       "    <tr style=\"text-align: right;\">\n",
       "      <th></th>\n",
       "      <th>code</th>\n",
       "      <th>type</th>\n",
       "      <th>salary</th>\n",
       "      <th>working</th>\n",
       "    </tr>\n",
       "  </thead>\n",
       "  <tbody>\n",
       "    <tr>\n",
       "      <th>0</th>\n",
       "      <td>1401</td>\n",
       "      <td>綜合教育學類</td>\n",
       "      <td>37423</td>\n",
       "      <td>0.84</td>\n",
       "    </tr>\n",
       "    <tr>\n",
       "      <th>1</th>\n",
       "      <td>1402</td>\n",
       "      <td>普通科目教育學類</td>\n",
       "      <td>34327</td>\n",
       "      <td>0.85</td>\n",
       "    </tr>\n",
       "    <tr>\n",
       "      <th>2</th>\n",
       "      <td>1403</td>\n",
       "      <td>專業科目教育學類</td>\n",
       "      <td>34619</td>\n",
       "      <td>0.85</td>\n",
       "    </tr>\n",
       "    <tr>\n",
       "      <th>3</th>\n",
       "      <td>1404</td>\n",
       "      <td>學前教育學類</td>\n",
       "      <td>32645</td>\n",
       "      <td>0.91</td>\n",
       "    </tr>\n",
       "    <tr>\n",
       "      <th>4</th>\n",
       "      <td>1405</td>\n",
       "      <td>成人教育學類</td>\n",
       "      <td>30753</td>\n",
       "      <td>0.86</td>\n",
       "    </tr>\n",
       "  </tbody>\n",
       "</table>\n",
       "</div>"
      ],
      "text/plain": [
       "   code      type  salary  working\n",
       "0  1401    綜合教育學類   37423     0.84\n",
       "1  1402  普通科目教育學類   34327     0.85\n",
       "2  1403  專業科目教育學類   34619     0.85\n",
       "3  1404    學前教育學類   32645     0.91\n",
       "4  1405    成人教育學類   30753     0.86"
      ]
     },
     "execution_count": 2,
     "metadata": {},
     "output_type": "execute_result"
    }
   ],
   "source": [
    "job = pd.read_csv(\"/Users/USER/Desktop/For-Python/StudentJob.csv\",encoding = \"big5\")\n",
    "job.head()"
   ]
  },
  {
   "cell_type": "code",
   "execution_count": 3,
   "metadata": {},
   "outputs": [
    {
     "data": {
      "text/plain": [
       "array([[3.7423e+04, 8.4000e-01],\n",
       "       [3.4327e+04, 8.5000e-01],\n",
       "       [3.4619e+04, 8.5000e-01],\n",
       "       [3.2645e+04, 9.1000e-01],\n",
       "       [3.0753e+04, 8.6000e-01],\n",
       "       [4.4859e+04, 9.3000e-01],\n",
       "       [3.1545e+04, 8.1000e-01],\n",
       "       [2.8474e+04, 8.9000e-01],\n",
       "       [3.7638e+04, 8.9000e-01],\n",
       "       [2.9377e+04, 7.6000e-01],\n",
       "       [3.3485e+04, 5.4000e-01],\n",
       "       [2.4842e+04, 8.7000e-01],\n",
       "       [3.1875e+04, 6.6000e-01],\n",
       "       [3.0066e+04, 7.7000e-01],\n",
       "       [2.9914e+04, 8.0000e-01],\n",
       "       [2.9871e+04, 7.8000e-01],\n",
       "       [2.8217e+04, 5.8000e-01],\n",
       "       [3.0450e+04, 7.7000e-01],\n",
       "       [2.7005e+04, 7.0000e-01],\n",
       "       [2.8427e+04, 8.5000e-01],\n",
       "       [3.1029e+04, 8.3000e-01],\n",
       "       [3.0313e+04, 8.5000e-01],\n",
       "       [3.5684e+04, 8.9000e-01],\n",
       "       [3.0426e+04, 8.9000e-01],\n",
       "       [2.8770e+04, 8.5000e-01],\n",
       "       [2.7366e+04, 7.4000e-01],\n",
       "       [3.0347e+04, 7.6000e-01],\n",
       "       [3.0988e+04, 8.6000e-01],\n",
       "       [3.0394e+04, 7.9000e-01],\n",
       "       [3.3020e+04, 8.4000e-01],\n",
       "       [2.6527e+04, 8.3000e-01],\n",
       "       [2.6718e+04, 8.7000e-01],\n",
       "       [2.7422e+04, 8.8000e-01],\n",
       "       [2.5609e+04, 9.0000e-01],\n",
       "       [2.6060e+04, 7.9000e-01],\n",
       "       [3.4767e+04, 8.5000e-01],\n",
       "       [3.5703e+04, 7.8000e-01],\n",
       "       [3.1375e+04, 8.2000e-01],\n",
       "       [3.3736e+04, 8.6000e-01],\n",
       "       [3.2759e+04, 8.1000e-01],\n",
       "       [3.8614e+04, 8.1000e-01],\n",
       "       [3.1782e+04, 8.2000e-01],\n",
       "       [3.1277e+04, 8.2000e-01],\n",
       "       [2.9818e+04, 8.3000e-01],\n",
       "       [3.3569e+04, 8.6000e-01],\n",
       "       [2.8330e+04, 8.8000e-01],\n",
       "       [3.2970e+04, 8.9000e-01],\n",
       "       [2.9889e+04, 8.6000e-01],\n",
       "       [3.1843e+04, 8.7000e-01],\n",
       "       [3.1247e+04, 8.6000e-01],\n",
       "       [2.9788e+04, 8.2000e-01],\n",
       "       [3.2026e+04, 8.9000e-01],\n",
       "       [2.6983e+04, 8.1000e-01],\n",
       "       [3.2899e+04, 9.0000e-01],\n",
       "       [2.9887e+04, 8.8000e-01],\n",
       "       [3.0020e+04, 8.9000e-01],\n",
       "       [3.2166e+04, 8.6000e-01],\n",
       "       [3.1954e+04, 9.0000e-01],\n",
       "       [3.1251e+04, 8.8000e-01],\n",
       "       [2.7545e+04, 8.9000e-01],\n",
       "       [2.7648e+04, 8.9000e-01],\n",
       "       [3.0508e+04, 8.7000e-01],\n",
       "       [3.5693e+04, 6.4000e-01],\n",
       "       [2.8534e+04, 7.8000e-01],\n",
       "       [3.7723e+04, 5.0000e-01],\n",
       "       [3.0943e+04, 7.2000e-01],\n",
       "       [2.6013e+04, 8.5000e-01],\n",
       "       [2.7437e+04, 8.2000e-01],\n",
       "       [3.4995e+04, 7.5000e-01],\n",
       "       [3.0521e+04, 6.6000e-01],\n",
       "       [2.7720e+04, 8.5000e-01],\n",
       "       [2.9844e+04, 7.6000e-01],\n",
       "       [3.3991e+04, 8.3000e-01],\n",
       "       [3.2894e+04, 6.8000e-01],\n",
       "       [3.2837e+04, 7.7000e-01],\n",
       "       [3.1585e+04, 7.8000e-01],\n",
       "       [2.8197e+04, 7.5000e-01],\n",
       "       [3.2924e+04, 7.6000e-01],\n",
       "       [3.3096e+04, 8.0000e-01],\n",
       "       [3.1558e+04, 8.5000e-01],\n",
       "       [3.5137e+04, 8.5000e-01],\n",
       "       [2.8803e+04, 8.7000e-01],\n",
       "       [2.9666e+04, 9.1000e-01],\n",
       "       [2.7992e+04, 8.4000e-01],\n",
       "       [2.6862e+04, 8.6000e-01],\n",
       "       [3.0849e+04, 8.8000e-01],\n",
       "       [3.1686e+04, 9.0000e-01],\n",
       "       [2.9929e+04, 8.8000e-01],\n",
       "       [3.3872e+04, 8.9000e-01],\n",
       "       [3.3448e+04, 8.5000e-01],\n",
       "       [3.0510e+04, 8.8000e-01],\n",
       "       [3.0534e+04, 9.1000e-01],\n",
       "       [4.3542e+04, 8.2000e-01],\n",
       "       [2.8706e+04, 9.0000e-01],\n",
       "       [3.2305e+04, 8.2000e-01],\n",
       "       [3.1329e+04, 8.4000e-01],\n",
       "       [3.9159e+04, 5.4000e-01],\n",
       "       [3.3068e+04, 8.2000e-01],\n",
       "       [3.0737e+04, 8.9000e-01],\n",
       "       [2.9411e+04, 9.1000e-01],\n",
       "       [2.7637e+04, 9.0000e-01],\n",
       "       [2.9532e+04, 8.5000e-01],\n",
       "       [3.2746e+04, 8.8000e-01],\n",
       "       [2.9104e+04, 8.1000e-01],\n",
       "       [2.7851e+04, 7.9000e-01],\n",
       "       [2.8779e+04, 7.8000e-01],\n",
       "       [2.9129e+04, 8.9000e-01],\n",
       "       [3.4812e+04, 8.5000e-01],\n",
       "       [2.6469e+04, 8.6000e-01],\n",
       "       [2.8151e+04, 8.6000e-01],\n",
       "       [3.0284e+04, 6.9000e-01],\n",
       "       [3.8838e+04, 1.0000e+00],\n",
       "       [2.9608e+04, 7.7000e-01],\n",
       "       [2.6897e+04, 8.5000e-01],\n",
       "       [3.2824e+04, 8.5000e-01],\n",
       "       [9.5360e+04, 9.8000e-01],\n",
       "       [3.0414e+04, 8.5000e-01],\n",
       "       [4.7275e+04, 8.5000e-01],\n",
       "       [3.8140e+04, 8.7000e-01],\n",
       "       [2.8415e+04, 8.5000e-01],\n",
       "       [4.9785e+04, 9.6000e-01],\n",
       "       [3.4624e+04, 8.4000e-01],\n",
       "       [5.8937e+04, 8.2000e-01],\n",
       "       [5.0951e+04, 1.0000e+00],\n",
       "       [3.3161e+04, 9.0000e-01],\n",
       "       [3.3049e+04, 9.0000e-01],\n",
       "       [2.5809e+04, 9.2000e-01],\n",
       "       [2.8222e+04, 8.8000e-01],\n",
       "       [2.8053e+04, 8.7000e-01],\n",
       "       [3.9999e+04, 8.5000e-01],\n",
       "       [2.7965e+04, 8.0000e-01],\n",
       "       [2.8468e+04, 8.7000e-01],\n",
       "       [2.6738e+04, 8.9000e-01],\n",
       "       [2.9504e+04, 8.3000e-01],\n",
       "       [2.8710e+04, 8.8000e-01],\n",
       "       [3.1530e+04, 9.2000e-01],\n",
       "       [3.2975e+04, 8.8000e-01],\n",
       "       [3.0564e+04, 9.1000e-01],\n",
       "       [4.9321e+04, 8.9000e-01],\n",
       "       [2.7582e+04, 9.1000e-01],\n",
       "       [2.6988e+04, 8.9000e-01],\n",
       "       [2.5693e+04, 8.4000e-01]])"
      ]
     },
     "execution_count": 3,
     "metadata": {},
     "output_type": "execute_result"
    }
   ],
   "source": [
    "job[['salary']] = job[['salary']].astype(float)\n",
    "job[['working']] = job[['working']].astype(float)\n",
    "mat = job[['salary','working']].values\n",
    "mat"
   ]
  },
  {
   "cell_type": "code",
   "execution_count": 9,
   "metadata": {},
   "outputs": [
    {
     "data": {
      "image/png": "[encoded data removed]",
      "text/plain": [
       "<Figure size 432x288 with 1 Axes>"
      ]
     },
     "metadata": {},
     "output_type": "display_data"
    },
    {
     "name": "stdout",
     "output_type": "stream",
     "text": [
      "[0.8175082212459814, 0.7178861045528213, 0.5605931317389315, 0.541967949146904, 0.5777028829579288, 0.580967798226166, 0.5721407566300195, 0.5418927381137643]\n"
     ]
    }
   ],
   "source": [
    "# choose the best k by silhouette method\n",
    "from sklearn import cluster, datasets, metrics\n",
    "import matplotlib.pyplot as plt\n",
    "avgs = []\n",
    "for k in range(2,10):\n",
    "    kmeans_fit = cluster.KMeans(n_clusters = k).fit(mat)\n",
    "    cluster_labels = kmeans_fit.labels_\n",
    "    avg = metrics.silhouette_score(mat, cluster_labels)\n",
    "    avgs.append(avg)\n",
    "\n",
    "# plot k=2 to 10 \n",
    "plt.plot(range(2,10), avgs)\n",
    "plt.show()\n",
    "print(avgs)"
   ]
  },
  {
   "cell_type": "code",
   "execution_count": 13,
   "metadata": {},
   "outputs": [
    {
     "data": {
      "image/png": "[encoded data removed]",
      "text/plain": [
       "<Figure size 720x432 with 1 Axes>"
      ]
     },
     "metadata": {},
     "output_type": "display_data"
    },
    {
     "data": {
      "text/plain": [
       "array([[3.08339701e+04, 8.31492537e-01],\n",
       "       [5.50037500e+04, 9.06250000e-01]])"
      ]
     },
     "execution_count": 13,
     "metadata": {},
     "output_type": "execute_result"
    }
   ],
   "source": [
    "# k=2 is the best classification\n",
    "bestkm = cluster.KMeans(n_clusters = 2).fit(mat)\n",
    "pred = bestkm.fit_predict(mat)\n",
    "plt.figure(figsize=(10, 6))\n",
    "plt.xlabel('Salary')\n",
    "plt.ylabel('Rate of working')\n",
    "plt.scatter(mat[:, 0], mat[:, 1], c=pred) \n",
    "plt.show()\n",
    "# center of each cluster\n",
    "bestkm.cluster_centers_ "
   ]
  }
 ],
 "metadata": {
  "kernelspec": {
   "display_name": "Python 3",
   "language": "python",
   "name": "python3"
  },
  "language_info": {
   "codemirror_mode": {
    "name": "ipython",
    "version": 3
   },
   "file_extension": ".py",
   "mimetype": "text/x-python",
   "name": "python",
   "nbconvert_exporter": "python",
   "pygments_lexer": "ipython3",
   "version": "3.8.2"
  }
 },
 "nbformat": 4,
 "nbformat_minor": 4
}
