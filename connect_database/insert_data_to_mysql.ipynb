{
 "cells": [
  {
   "cell_type": "code",
   "execution_count": 1,
   "metadata": {},
   "outputs": [
    {
     "name": "stdout",
     "output_type": "stream",
     "text": [
      "            Brand  Price\n",
      "0     Honda Civic  26500\n",
      "1  Toyota Corolla  25000\n",
      "2      Ford Focus  29000\n",
      "3         Audi A4  35000\n"
     ]
    }
   ],
   "source": [
    "# create dataframe\n",
    "import pandas as pd\n",
    "\n",
    "cars = {'Brand': ['Honda Civic','Toyota Corolla','Ford Focus','Audi A4'],\n",
    "        'Price': [26500,25000,29000,35000]\n",
    "        }\n",
    "\n",
    "df = pd.DataFrame(cars, columns= ['Brand', 'Price'])\n",
    "\n",
    "print (df)"
   ]
  },
  {
   "cell_type": "code",
   "execution_count": 2,
   "metadata": {},
   "outputs": [],
   "source": [
    "# insert dataframe to csv\n",
    "import csv\n",
    "df.to_csv(\"/Users/USER/Desktop/csvout.csv\", index=False)"
   ]
  },
  {
   "cell_type": "code",
   "execution_count": 3,
   "metadata": {},
   "outputs": [
    {
     "name": "stdout",
     "output_type": "stream",
     "text": [
      "['Honda Civic', '26500']\n",
      "['Toyota Corolla', '25000']\n",
      "['Ford Focus', '29000']\n",
      "['Audi A4', '35000']\n",
      "Successfully insert.\n"
     ]
    }
   ],
   "source": [
    "import csv \n",
    "import pymysql\n",
    "mydb = pymysql.connect(host='XXX.XXX.XXX.XXX', port=3306, user='XXXXX', passwd='XXXXX', db='XXXXXX', charset='utf8mb4')  \n",
    "# insert csv to mysql\n",
    "def insert_to_mysql(filepath):\n",
    "    cursor = mydb.cursor() \n",
    "    csv_data = csv.reader(filepath)\n",
    "    with open(filepath, newline='') as csvfile:\n",
    "        csv_data = csv.reader(csvfile, delimiter=',')\n",
    "        next(csv_data, None)\n",
    "        for row in csv_data:\n",
    "            print(row)\n",
    "            cursor.execute('REPLACE INTO tb_csv1(Brand, Price) VALUES(%s, %s)', row)\n",
    "    mydb.commit() \n",
    "    cursor.close()\n",
    "    print(\"Successfully insert.\")\n",
    "\n",
    "\n",
    "insert_to_mysql('/Users/USER/Desktop/csvout.csv')"
   ]
  },
  {
   "cell_type": "code",
   "execution_count": 4,
   "metadata": {},
   "outputs": [
    {
     "name": "stdout",
     "output_type": "stream",
     "text": [
      "Successfully insert.\n"
     ]
    }
   ],
   "source": [
    "# insert dataframe to mysql\n",
    "import MySQLdb\n",
    "import pandas as pd\n",
    "from sqlalchemy import create_engine\n",
    "\n",
    "user='XXXXXX\n",
    "password='XXXXXX'\n",
    "host='XXX.XXX.XXX.XXX'\n",
    "port=3306\n",
    "db='XXXXXX'\n",
    "            \n",
    "def insert_to_mysql(df):\n",
    "    engine = create_engine(str(r\"mysql+mysqldb://%s:\" + '%s' + \"@%s/%s\") % (user, password, host, db))\n",
    "\n",
    "    try:\n",
    "        df.to_sql('tb_csv1',con=engine,if_exists='replace',index=False) #if_exists='append'\n",
    "        print(\"Successfully insert.\")\n",
    "    except Exception as e:\n",
    "        print(e)\n",
    "\n",
    "        \n",
    "insert_to_mysql(df)"
   ]
  }
 ],
 "metadata": {
  "kernelspec": {
   "display_name": "Python 3",
   "language": "python",
   "name": "python3"
  },
  "language_info": {
   "codemirror_mode": {
    "name": "ipython",
    "version": 3
   },
   "file_extension": ".py",
   "mimetype": "text/x-python",
   "name": "python",
   "nbconvert_exporter": "python",
   "pygments_lexer": "ipython3",
   "version": "3.8.2"
  }
 },
 "nbformat": 4,
 "nbformat_minor": 4
}
