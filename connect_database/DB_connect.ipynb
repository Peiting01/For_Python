{
 "cells": [
  {
   "cell_type": "code",
   "execution_count": 1,
   "metadata": {},
   "outputs": [],
   "source": [
    "#DB Connection Tools\n",
    "\n",
    "import mysql.connector\n",
    "\n",
    "def connect_sql_gcp(database = 'WarehouseServer'):\n",
    "    conn = mysql.connector.connect(\n",
    "            user='XXXXX',\n",
    "            password='XXXXX',\n",
    "            host='XXX.XXX.XXX.XXX', \n",
    "            port=3306,\n",
    "            database = database,\n",
    "            charset='utf8mb4'\n",
    "            )\n",
    "    cur = conn.cursor()\n",
    "    return conn, cur"
   ]
  }
 ],
 "metadata": {
  "kernelspec": {
   "display_name": "Python 3",
   "language": "python",
   "name": "python3"
  },
  "language_info": {
   "codemirror_mode": {
    "name": "ipython",
    "version": 3
   },
   "file_extension": ".py",
   "mimetype": "text/x-python",
   "name": "python",
   "nbconvert_exporter": "python",
   "pygments_lexer": "ipython3",
   "version": "3.8.2"
  }
 },
 "nbformat": 4,
 "nbformat_minor": 4
}
