{
 "cells": [
  {
   "cell_type": "code",
   "execution_count": 1,
   "metadata": {},
   "outputs": [],
   "source": [
    "# -*- coding: utf-8 -*-\n",
    "\"\"\"\n",
    "Created on Mon Mar  9 10:17:11 2020\n",
    "\n",
    "@author: lailai_tvbs\n",
    "\"\"\"\n",
    "import datetime\n",
    "from apiclient.discovery import build\n",
    "from oauth2client.service_account import ServiceAccountCredentials as Credentials\n",
    "import pandas as pd\n",
    "import math\n",
    "\n",
    "import time\n",
    "import re\n",
    "import sys\n",
    "sys.path.insert(1, '/Users/USER/Desktop/GA_firebase/code/warehouse/')\n",
    "from db_connect import connect_sql_gcp\n"
   ]
  },
  {
   "cell_type": "code",
   "execution_count": 2,
   "metadata": {},
   "outputs": [],
   "source": [
    "#控制篩選資料的日期\n",
    "def datetime_control(datetotal, datediff):\n",
    "    today = datetime.date.today()\n",
    "    batch_datetime = today + datetime.timedelta(days = -datetotal) + datetime.timedelta(days = datediff)\n",
    "    date = str(batch_datetime)\n",
    "    return date\n",
    "\n"
   ]
  },
  {
   "cell_type": "code",
   "execution_count": 3,
   "metadata": {},
   "outputs": [],
   "source": [
    "\n",
    "#抓Google API的憑證\n",
    "def get_service():\n",
    "    creds = Credentials.from_json_keyfile_name('/Users/USER/Desktop/GA_firebase/code/warehouse/GA_Api_for_Intern_New.json', scopes = ['https://www.googleapis.com/auth/analytics.readonly'])\n",
    "    return build(serviceName='analyticsreporting', version='v4', credentials=creds)\n",
    "\n",
    "\n",
    "\n",
    "#用Google API憑證抓GA資料\n",
    "def get_report(service, view_id, date, dimensions, next_page):\n",
    "    return service.reports().batchGet(\n",
    "            body={'reportRequests': [{'viewId': view_id,'dateRanges': [{'startDate': date, 'endDate': date}],\n",
    "                  'metrics':[{'expression':\"ga:pageviews\"}], #[{'expression': m} for m in metrics]\n",
    "                  'dimensions': [{'name': d} for d in dimensions],\n",
    "                  'pageSize': \"100000\",\n",
    "                  'pageToken': str(next_page)\n",
    "                }]\n",
    "            }).execute()\n",
    "    \n"
   ]
  },
  {
   "cell_type": "code",
   "execution_count": 4,
   "metadata": {},
   "outputs": [],
   "source": [
    "#將GA資料轉成資料集\n",
    "def to_dataframe(result, date):\n",
    "    report = result['reports'][0]\n",
    "    dimensions = report['columnHeader']['dimensions']\n",
    "    metrics = [m['name'] for m in report['columnHeader']['metricHeader']['metricHeaderEntries']]\n",
    "    headers = [*dimensions, *metrics]\n",
    "    data_rows = report['data']['rows']\n",
    "    tmp_data = []\n",
    "    for row in data_rows:\n",
    "        tmp_data.append([*row['dimensions'], *row['metrics'][0]['values']])\n",
    "    tmp_data = pd.DataFrame(data=tmp_data, columns=[w.replace('ga:', '') for w in headers])\n",
    "    tmp_data[\"date\"] = date\n",
    "    return tmp_data"
   ]
  },
  {
   "cell_type": "code",
   "execution_count": 5,
   "metadata": {},
   "outputs": [],
   "source": [
    "#每次從GA撈100000筆，依序合併\n",
    "def combine_data(service, proj_name, proj_id, date, dimensions):\n",
    "    #view_name = view_list[0]; view_id = view_list[1]\n",
    "    rows = 100000\n",
    "    next_page = 0\n",
    "    df_daily = pd.DataFrame()\n",
    "    while True:\n",
    "        result = get_report(service, proj_id, date, dimensions, next_page)\n",
    "        row_num = len(result['reports'][0]['data']['rows'])\n",
    "        if(row_num < rows):\n",
    "            df = to_dataframe(result, date)\n",
    "            df_daily = df_daily.append(df)\n",
    "            break\n",
    "        else:\n",
    "            df = to_dataframe(result, date)\n",
    "            df_daily = df_daily.append(df)\n",
    "            next_page += rows\n",
    "\n",
    "    return df_daily\n",
    "\n"
   ]
  },
  {
   "cell_type": "code",
   "execution_count": 6,
   "metadata": {},
   "outputs": [],
   "source": [
    "#刪除emoji\n",
    "def remove_emoji(df_daily):\n",
    "    for filt in [x for x in df_daily.columns.tolist() if x not in ('pageviews','date')]:\n",
    "        df_daily[filt] = df_daily[filt].astype(str).apply(lambda x : re.sub(u\"[《！？｡，＂＃＄％＆＇（）＊＋－／：；＜＝＞＠［＼］＾＿｀｛｜｝～｟｠｢｣､、〃》「」『』【】〔〕〖〗〘〙〚〛〜〝〞〟〰〾〿–—‘'‛“”„‟…‧﹏]+\", \" \", x))\n",
    "        df_daily[filt] = df_daily[filt].astype(str).apply(lambda x : ''.join(re.compile(r\"[\\_\\:\\/\\?\\.\\-\\(\\)a-zA-Z0-9\\u4e00-\\u9fa5]\").findall(x)))"
   ]
  },
  {
   "cell_type": "code",
   "execution_count": 7,
   "metadata": {},
   "outputs": [],
   "source": [
    "#將處理好的data塞回GCP\n",
    "def insert_data(db_name, table_name, df_daily):\n",
    "    delete_data(db_name, table_name, df_daily)\n",
    "#    remove_emoji(df_daily)\n",
    "    batch_row = 100000\n",
    "    if len(df_daily) > batch_row:\n",
    "        for r in range(0,math.ceil(len(df_daily)/batch_row)):\n",
    "            data = []\n",
    "            for t,row in df_daily[r*batch_row:(r+1)*batch_row].iterrows():\n",
    "                data.append(tuple(row))\n",
    "            to_mysql(db_name, table_name, df_daily, data)\n",
    "    else:\n",
    "        data = []\n",
    "        for t,row in df_daily.iterrows():\n",
    "            data.append(tuple(row))\n",
    "        to_mysql(db_name, table_name, df_daily, data)\n"
   ]
  },
  {
   "cell_type": "code",
   "execution_count": 8,
   "metadata": {},
   "outputs": [],
   "source": [
    "#刪除GCP舊有的資料\n",
    "def delete_data(db_name, table_name, df_daily):\n",
    "    delete = '';select = ''\n",
    "    delete = \"DELETE FROM %s.%s WHERE date = '%s'\" % (db_name, table_name, max(df_daily['date']))\n",
    "    select = \"SELECT count(*) FROM %s.%s WHERE date = '%s'\" % (db_name, table_name, max(df_daily['date']))\n",
    "    conn, cur = connect_sql_gcp(db_name)\n",
    "    cur.execute(\"LOCK TABLES %s.%s WRITE\" % (db_name, table_name))\n",
    "    cur.execute(\"START TRANSACTION\")\n",
    "    cur.execute(delete)\n",
    "    cur.execute(\"UNLOCK TABLES\")\n",
    "    conn.commit()\n",
    "    cur.execute(select);cnt = cur.fetchone()\n",
    "    if cnt[0] > 0:\n",
    "        print(\"delete not complete!\")\n",
    "    cur.close()\n",
    "    conn.close()\n"
   ]
  },
  {
   "cell_type": "code",
   "execution_count": 13,
   "metadata": {},
   "outputs": [],
   "source": [
    "#將資料塞回GCP\n",
    "def to_mysql(db_name, table_name, df_daily, data):\n",
    "    conn, cur = connect_sql_gcp(db_name)\n",
    "    cols = \",\".join([str(col) for col in df_daily.columns.tolist()])\n",
    "    insert = \"REPLACE INTO \" + db_name + '.' + table_name + \" (\" +cols + \") VALUES (\" + \"%s,\"*(len(tuple(df_daily))-1) + \"%s)\"\n",
    "    cur.executemany(insert, data)\n",
    "    conn.commit()\n",
    "    cur.close()\n",
    "    conn.close()\n"
   ]
  },
  {
   "cell_type": "code",
   "execution_count": 10,
   "metadata": {},
   "outputs": [],
   "source": [
    "def case(d):\n",
    "    global db_name, service, totaldate, proj_name, proj_id, table_name, dimensions\n",
    "    date = datetime_control(totaldate, d)\n",
    "    try:\n",
    "        df_daily = combine_data(service, proj_name, proj_id, date, dimensions)\n",
    "        insert_data(db_name, table_name, df_daily)\n",
    "        print(\"table : %s  ;  date : %s  ;  project : %s  ;  nrow : %s\" % (table_name, date, proj_name, str(len(df_daily))))\n",
    "    except Exception as e:\n",
    "        print(\"table : %s  ;  date : %s  ;  project : %s  ;  error : %s \" % (table_name, date, proj_name, str(e)))\n"
   ]
  },
  {
   "cell_type": "code",
   "execution_count": 11,
   "metadata": {},
   "outputs": [
    {
     "name": "stdout",
     "output_type": "stream",
     "text": [
      "table : GA_SourceMedium_Supertaste  ;  date : 2020-06-20  ;  project : Supertaste(Web+EC_CrossDomain)  ;  nrow : 388\n",
      "0.07680338621139526min\n"
     ]
    }
   ],
   "source": [
    "if __name__ == '__main__':\n",
    "    #紀錄開始時間\n",
    "    tStart = time.time()\n",
    "    #要寫入的DB\n",
    "    db_name = 'TVBS_intern'\n",
    "    service = get_service()\n",
    "    proj_name = \"Supertaste(Web+EC_CrossDomain)\" #\"Woman\"\n",
    "    proj_id = \"202617739\" #\"72760850\"\n",
    "    table_name = \"GA_SourceMedium_Supertaste\" #GA_Pageviews_Supertaste\n",
    "    dimensions = [\"ga:source\", \"ga:medium\"] #[ga:pagePath]\n",
    "    totaldate = 19\n",
    "    case(1)\n",
    "    tEnd = time.time()\n",
    "    print (str((tEnd - tStart)/60) + 'min')"
   ]
  },
  {
   "cell_type": "code",
   "execution_count": 12,
   "metadata": {},
   "outputs": [
    {
     "name": "stdout",
     "output_type": "stream",
     "text": [
      "table : GA_Pageviews_Supertaste  ;  date : 2020-06-19  ;  project : TVBS  ;  nrow : 285542\n",
      "49.78874289194743min\n"
     ]
    }
   ],
   "source": [
    "if __name__ == '__main__':\n",
    "    #紀錄開始時間\n",
    "    tStart = time.time()\n",
    "    #要寫入的DB\n",
    "    db_name = 'XXXXX'\n",
    "    service = get_service()\n",
    "    proj_name = \"TVBS\" \n",
    "    proj_id = \"72595640\" \n",
    "    table_name = \"GA_Pageviews_Supertaste\" \n",
    "    dimensions = [\"ga:pagePath\"] \n",
    "    totaldate = 20\n",
    "    case(1)\n",
    "    tEnd = time.time()\n",
    "    print (str((tEnd - tStart)/60) + 'min')\n",
    "# i=4;l=999;d=3;db_name = 'WarehouseServer';table_name = view[i][2];project_id = view[i][1];project_name = view[i][0]"
   ]
  }
 ],
 "metadata": {
  "kernelspec": {
   "display_name": "Python 3",
   "language": "python",
   "name": "python3"
  },
  "language_info": {
   "codemirror_mode": {
    "name": "ipython",
    "version": 3
   },
   "file_extension": ".py",
   "mimetype": "text/x-python",
   "name": "python",
   "nbconvert_exporter": "python",
   "pygments_lexer": "ipython3",
   "version": "3.8.2"
  }
 },
 "nbformat": 4,
 "nbformat_minor": 4
}
