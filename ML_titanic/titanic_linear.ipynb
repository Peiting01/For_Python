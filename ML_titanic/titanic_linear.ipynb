{
 "cells": [
  {
   "cell_type": "code",
   "execution_count": 1,
   "metadata": {},
   "outputs": [],
   "source": [
    "import pandas as pd\n",
    "import numpy as np\n",
    "import matplotlib.pyplot as plt\n",
    "from sklearn import preprocessing, linear_model\n",
    "from sklearn.model_selection import train_test_split"
   ]
  },
  {
   "cell_type": "code",
   "execution_count": 2,
   "metadata": {},
   "outputs": [
    {
     "data": {
      "text/html": [
       "<div>\n",
       "<style scoped>\n",
       "    .dataframe tbody tr th:only-of-type {\n",
       "        vertical-align: middle;\n",
       "    }\n",
       "\n",
       "    .dataframe tbody tr th {\n",
       "        vertical-align: top;\n",
       "    }\n",
       "\n",
       "    .dataframe thead th {\n",
       "        text-align: right;\n",
       "    }\n",
       "</style>\n",
       "<table border=\"1\" class=\"dataframe\">\n",
       "  <thead>\n",
       "    <tr style=\"text-align: right;\">\n",
       "      <th></th>\n",
       "      <th>Sex</th>\n",
       "      <th>Pclass</th>\n",
       "      <th>Age</th>\n",
       "      <th>Survived</th>\n",
       "    </tr>\n",
       "  </thead>\n",
       "  <tbody>\n",
       "    <tr>\n",
       "      <th>1</th>\n",
       "      <td>female</td>\n",
       "      <td>1</td>\n",
       "      <td>38.0</td>\n",
       "      <td>1</td>\n",
       "    </tr>\n",
       "    <tr>\n",
       "      <th>3</th>\n",
       "      <td>female</td>\n",
       "      <td>1</td>\n",
       "      <td>35.0</td>\n",
       "      <td>1</td>\n",
       "    </tr>\n",
       "    <tr>\n",
       "      <th>6</th>\n",
       "      <td>male</td>\n",
       "      <td>1</td>\n",
       "      <td>54.0</td>\n",
       "      <td>0</td>\n",
       "    </tr>\n",
       "    <tr>\n",
       "      <th>10</th>\n",
       "      <td>female</td>\n",
       "      <td>3</td>\n",
       "      <td>4.0</td>\n",
       "      <td>1</td>\n",
       "    </tr>\n",
       "    <tr>\n",
       "      <th>11</th>\n",
       "      <td>female</td>\n",
       "      <td>1</td>\n",
       "      <td>58.0</td>\n",
       "      <td>1</td>\n",
       "    </tr>\n",
       "  </tbody>\n",
       "</table>\n",
       "</div>"
      ],
      "text/plain": [
       "       Sex  Pclass   Age  Survived\n",
       "1   female       1  38.0         1\n",
       "3   female       1  35.0         1\n",
       "6     male       1  54.0         0\n",
       "10  female       3   4.0         1\n",
       "11  female       1  58.0         1"
      ]
     },
     "execution_count": 2,
     "metadata": {},
     "output_type": "execute_result"
    }
   ],
   "source": [
    "# import data and omit NA\n",
    "titanic = pd.read_csv(\"/Users/USER/Desktop/For-Python/datasets_11657_16098_train.csv\",encoding=\"big5\").dropna()\n",
    "titanic.head()\n",
    "titanic_df2 = titanic[['Sex','Pclass','Age','Survived']]\n",
    "titanic_df2.head()"
   ]
  },
  {
   "cell_type": "code",
   "execution_count": 3,
   "metadata": {},
   "outputs": [
    {
     "name": "stderr",
     "output_type": "stream",
     "text": [
      "<ipython-input-3-00f429551201>:2: SettingWithCopyWarning: \n",
      "A value is trying to be set on a copy of a slice from a DataFrame.\n",
      "Try using .loc[row_indexer,col_indexer] = value instead\n",
      "\n",
      "See the caveats in the documentation: https://pandas.pydata.org/pandas-docs/stable/user_guide/indexing.html#returning-a-view-versus-a-copy\n",
      "  titanic_df2['Sex'] = encoder.fit_transform(titanic_df2['Sex'])\n"
     ]
    },
    {
     "data": {
      "text/html": [
       "<div>\n",
       "<style scoped>\n",
       "    .dataframe tbody tr th:only-of-type {\n",
       "        vertical-align: middle;\n",
       "    }\n",
       "\n",
       "    .dataframe tbody tr th {\n",
       "        vertical-align: top;\n",
       "    }\n",
       "\n",
       "    .dataframe thead th {\n",
       "        text-align: right;\n",
       "    }\n",
       "</style>\n",
       "<table border=\"1\" class=\"dataframe\">\n",
       "  <thead>\n",
       "    <tr style=\"text-align: right;\">\n",
       "      <th></th>\n",
       "      <th>Sex</th>\n",
       "      <th>Pclass</th>\n",
       "      <th>Age</th>\n",
       "      <th>Survived</th>\n",
       "    </tr>\n",
       "  </thead>\n",
       "  <tbody>\n",
       "    <tr>\n",
       "      <th>1</th>\n",
       "      <td>0</td>\n",
       "      <td>1</td>\n",
       "      <td>38.0</td>\n",
       "      <td>1</td>\n",
       "    </tr>\n",
       "    <tr>\n",
       "      <th>3</th>\n",
       "      <td>0</td>\n",
       "      <td>1</td>\n",
       "      <td>35.0</td>\n",
       "      <td>1</td>\n",
       "    </tr>\n",
       "    <tr>\n",
       "      <th>6</th>\n",
       "      <td>1</td>\n",
       "      <td>1</td>\n",
       "      <td>54.0</td>\n",
       "      <td>0</td>\n",
       "    </tr>\n",
       "    <tr>\n",
       "      <th>10</th>\n",
       "      <td>0</td>\n",
       "      <td>3</td>\n",
       "      <td>4.0</td>\n",
       "      <td>1</td>\n",
       "    </tr>\n",
       "    <tr>\n",
       "      <th>11</th>\n",
       "      <td>0</td>\n",
       "      <td>1</td>\n",
       "      <td>58.0</td>\n",
       "      <td>1</td>\n",
       "    </tr>\n",
       "  </tbody>\n",
       "</table>\n",
       "</div>"
      ],
      "text/plain": [
       "    Sex  Pclass   Age  Survived\n",
       "1     0       1  38.0         1\n",
       "3     0       1  35.0         1\n",
       "6     1       1  54.0         0\n",
       "10    0       3   4.0         1\n",
       "11    0       1  58.0         1"
      ]
     },
     "execution_count": 3,
     "metadata": {},
     "output_type": "execute_result"
    }
   ],
   "source": [
    "encoder = preprocessing.LabelEncoder()\n",
    "titanic_df2['Sex'] = encoder.fit_transform(titanic_df2['Sex'])\n",
    "titanic_df2.head()"
   ]
  },
  {
   "cell_type": "code",
   "execution_count": 4,
   "metadata": {},
   "outputs": [],
   "source": [
    "x=titanic_df2[['Sex','Pclass','Age']]\n",
    "y=titanic_df2[['Survived']]\n",
    "x_train,x_test,y_train,y_test = train_test_split(x,y,test_size=0.3,random_state=56789)"
   ]
  },
  {
   "cell_type": "code",
   "execution_count": 5,
   "metadata": {},
   "outputs": [],
   "source": [
    "from sklearn.preprocessing  import StandardScaler\n",
    "sc = StandardScaler()\n",
    "sc.fit(x_train)\n",
    "x_train_nor = sc.transform(x_train)\n",
    "x_test_nor = sc.transform(x_test)"
   ]
  },
  {
   "cell_type": "code",
   "execution_count": 6,
   "metadata": {},
   "outputs": [
    {
     "name": "stdout",
     "output_type": "stream",
     "text": [
      "[[-0.21643882 -0.07792764 -0.12900381]]\n",
      "[0.6484375]\n",
      "0.31319900807966433\n"
     ]
    }
   ],
   "source": [
    "# train a simple reg model\n",
    "import sklearn.linear_model as lm\n",
    "reg = lm.LinearRegression()\n",
    "reg.fit(x_train_nor,y_train)\n",
    "r_squared = reg.score(x_train_nor, y_train)\n",
    "print(reg.coef_)\n",
    "print(reg.intercept_)\n",
    "print(r_squared)"
   ]
  },
  {
   "cell_type": "code",
   "execution_count": 7,
   "metadata": {},
   "outputs": [
    {
     "data": {
      "text/plain": [
       "array([[0.45926423],\n",
       "       [0.91855585],\n",
       "       [0.88682081],\n",
       "       [0.7757482 ],\n",
       "       [0.9264896 ],\n",
       "       [0.90268833],\n",
       "       [1.03756222],\n",
       "       [1.01376094],\n",
       "       [0.78368196],\n",
       "       [0.35612538],\n",
       "       [0.41166169],\n",
       "       [0.39579417],\n",
       "       [0.72814566],\n",
       "       [0.25298653],\n",
       "       [0.21331774],\n",
       "       [0.337569  ],\n",
       "       [0.69896666],\n",
       "       [0.40372793],\n",
       "       [0.43546296],\n",
       "       [0.43546296],\n",
       "       [0.27934384],\n",
       "       [0.61793939],\n",
       "       [0.80082749],\n",
       "       [0.9264896 ],\n",
       "       [0.91855585],\n",
       "       [0.61525053],\n",
       "       [0.74401317],\n",
       "       [1.07723101],\n",
       "       [0.46719799],\n",
       "       [0.54653557],\n",
       "       [0.96615839],\n",
       "       [0.95822464],\n",
       "       [0.48306551],\n",
       "       [1.02962846],\n",
       "       [0.81541699],\n",
       "       [0.94235712],\n",
       "       [0.82335075],\n",
       "       [1.18830362],\n",
       "       [0.79954948],\n",
       "       [0.57033685],\n",
       "       [0.86301954],\n",
       "       [0.5227343 ],\n",
       "       [0.35343652],\n",
       "       [1.02962846],\n",
       "       [0.48306551],\n",
       "       [1.0216947 ],\n",
       "       [0.89475457],\n",
       "       [0.77305934],\n",
       "       [0.53860181],\n",
       "       [1.03756222],\n",
       "       [0.39579417],\n",
       "       [1.05342973],\n",
       "       [1.05342973],\n",
       "       [0.61793939],\n",
       "       [0.5227343 ]])"
      ]
     },
     "execution_count": 7,
     "metadata": {},
     "output_type": "execute_result"
    }
   ],
   "source": [
    "# predict\n",
    "reg.predict(x_test_nor)"
   ]
  }
 ],
 "metadata": {
  "kernelspec": {
   "display_name": "Python 3",
   "language": "python",
   "name": "python3"
  },
  "language_info": {
   "codemirror_mode": {
    "name": "ipython",
    "version": 3
   },
   "file_extension": ".py",
   "mimetype": "text/x-python",
   "name": "python",
   "nbconvert_exporter": "python",
   "pygments_lexer": "ipython3",
   "version": "3.8.2"
  }
 },
 "nbformat": 4,
 "nbformat_minor": 4
}
